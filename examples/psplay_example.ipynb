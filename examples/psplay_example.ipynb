{
 "cells": [
  {
   "cell_type": "markdown",
   "metadata": {},
   "source": [
    "# Visualizing & playing with CMB maps"
   ]
  },
  {
   "cell_type": "markdown",
   "metadata": {},
   "source": [
    "## ipyleaflet for CAR maps\n",
    "We first import all needed material and we define an application"
   ]
  },
  {
   "cell_type": "code",
   "execution_count": 4,
   "metadata": {},
   "outputs": [],
   "source": [
    "from psplay import App\n",
    "\n",
    "my_app = App()"
   ]
  },
  {
   "cell_type": "markdown",
   "metadata": {},
   "source": [
    "First, we define the layers corresponding to the different CMB maps. The `ranges` variable relates repectively to the temperature and polarisation range *i.e.* $\\pm$ 500 µK and $\\pm$ 100 µK."
   ]
  },
  {
   "cell_type": "code",
   "execution_count": 2,
   "metadata": {},
   "outputs": [],
   "source": [
    "ranges = [500, 100, 100]\n",
    "layers = [define_layer(\"tiles/split%s_IQU.fits/{z}/tile_{y}_{x}_%s.png\" % (str(split), str(i)), \n",
    "                       \"CMB - {} - split {}\".format(item, split), \n",
    "                       value_min=-ranges[i], \n",
    "                       value_max=+ranges[i]) \n",
    "          for i, item in enumerate(\"IQU\") for split in [0, 1]]"
   ]
  },
  {
   "cell_type": "code",
   "execution_count": 3,
   "metadata": {},
   "outputs": [
    {
     "data": {
      "application/vnd.jupyter.widget-view+json": {
       "model_id": "d702bf1773964b4d890a378c13e66464",
       "version_major": 2,
       "version_minor": 0
      },
      "text/plain": [
       "Map(center=[0, 0], controls=(FullScreenControl(options=['position']), StatusBarControl(options=['position', 'p…"
      ]
     },
     "metadata": {},
     "output_type": "display_data"
    }
   ],
   "source": [
    "my_app.add_map()"
   ]
  }
 ],
 "metadata": {
  "kernelspec": {
   "display_name": "Python 3",
   "language": "python",
   "name": "python3"
  },
  "language_info": {
   "codemirror_mode": {
    "name": "ipython",
    "version": 3
   },
   "file_extension": ".py",
   "mimetype": "text/x-python",
   "name": "python",
   "nbconvert_exporter": "python",
   "pygments_lexer": "ipython3",
   "version": "3.8.2"
  }
 },
 "nbformat": 4,
 "nbformat_minor": 4
}
